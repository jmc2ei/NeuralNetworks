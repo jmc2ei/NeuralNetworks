{
 "cells": [
  {
   "cell_type": "markdown",
   "id": "consistent-david",
   "metadata": {},
   "source": [
    "Problem 1"
   ]
  },
  {
   "cell_type": "code",
   "execution_count": 1,
   "id": "identified-session",
   "metadata": {},
   "outputs": [],
   "source": [
    "#import what we need for the job...\n",
    "import tensorflow.keras as keras\n",
    "import numpy as np\n",
    "import matplotlib.pyplot as plt\n",
    "%matplotlib inline\n",
    "\n",
    "#Visualization\n",
    "from IPython.display import display"
   ]
  },
  {
   "cell_type": "code",
   "execution_count": 2,
   "id": "wired-small",
   "metadata": {},
   "outputs": [
    {
     "name": "stdout",
     "output_type": "stream",
     "text": [
      "--2021-04-20 02:15:24--  https://www.cs.mtsu.edu/~jphillips/courses/CSCI4850-5850/public/PandP_Jane_Austen.txt\n",
      "Resolving www.cs.mtsu.edu (www.cs.mtsu.edu)... 161.45.162.100\n",
      "Connecting to www.cs.mtsu.edu (www.cs.mtsu.edu)|161.45.162.100|:443... connected.\n",
      "HTTP request sent, awaiting response... 200 OK\n",
      "Length: 683838 (668K) [text/plain]\n",
      "Saving to: ‘PandP_Jane_Austen.txt.3’\n",
      "\n",
      "PandP_Jane_Austen.t 100%[===================>] 667.81K  --.-KB/s    in 0.01s   \n",
      "\n",
      "2021-04-20 02:15:24 (63.3 MB/s) - ‘PandP_Jane_Austen.txt.3’ saved [683838/683838]\n",
      "\n"
     ]
    }
   ],
   "source": [
    "!wget https://www.cs.mtsu.edu/~jphillips/courses/CSCI4850-5850/public/PandP_Jane_Austen.txt"
   ]
  },
  {
   "cell_type": "code",
   "execution_count": 3,
   "id": "specialized-providence",
   "metadata": {},
   "outputs": [
    {
     "name": "stdout",
     "output_type": "stream",
     "text": [
      "It is a truth universally acknowledged, that a single man in possession\n",
      "of a good fortune, must be in want of a wife.\n",
      "\n",
      "However little known the feelings or views of such a man may be on his\n",
      "first entering a neighbourhood, this truth is so well fixed in the minds\n",
      "of the surrounding families, that he is considered the rightful property\n",
      "of some one or other of their daughters.\n",
      "\n",
      "\"My dear Mr. Bennet,\" said his lady to him one day, \"have you heard that\n",
      "Netherfield Park is let at last?\"\n"
     ]
    }
   ],
   "source": [
    "!head PandP_Jane_Austen.txt"
   ]
  },
  {
   "cell_type": "code",
   "execution_count": 4,
   "id": "promotional-convergence",
   "metadata": {},
   "outputs": [
    {
     "data": {
      "text/plain": [
       "['It is a truth universally acknowledged, that a single man in possession',\n",
       " 'of a good fortune, must be in want of a wife.',\n",
       " 'However little known the feelings or views of such a man may be on his',\n",
       " 'first entering a neighbourhood, this truth is so well fixed in the minds',\n",
       " 'of the surrounding families, that he is considered the rightful property',\n",
       " 'of some one or other of their daughters.',\n",
       " '\"My dear Mr. Bennet,\" said his lady to him one day, \"have you heard that',\n",
       " 'Netherfield Park is let at last?\"']"
      ]
     },
     "execution_count": 4,
     "metadata": {},
     "output_type": "execute_result"
    }
   ],
   "source": [
    "# Preprocessing - grab lines from the file\n",
    "with open('PandP_Jane_Austen.txt','r',encoding='utf-8')as f:\n",
    "    lines=f.read().split('\\n')\n",
    "    # Paragraphs are separated by blank\n",
    "    # lines -> just drop those lines...\n",
    "text=[]\n",
    "for i in range(len(lines)):\n",
    "    if lines[i] != '':\n",
    "        text=text+[lines[i]]\n",
    "min_length=max([len(i) for i in text])\n",
    "# Visual Confirmation that we have loaded the text in...\n",
    "text[0:8]"
   ]
  },
  {
   "cell_type": "code",
   "execution_count": 5,
   "id": "moderate-kitchen",
   "metadata": {},
   "outputs": [
    {
     "name": "stdout",
     "output_type": "stream",
     "text": [
      "!\n",
      "\"\n",
      "'\n",
      "(\n",
      ")\n",
      "*\n",
      ",\n",
      "-\n",
      ".\n",
      "1\n"
     ]
    }
   ],
   "source": [
    "!head unique_chars.txt"
   ]
  },
  {
   "cell_type": "code",
   "execution_count": 6,
   "id": "indirect-combining",
   "metadata": {},
   "outputs": [],
   "source": [
    "# Unique characters - precalculated\n",
    "with open('unique_chars.txt','r',encoding='utf-8') as f:\n",
    "    lines=f.read().split('\\n')\n",
    "lines=[line for line in lines if line !='']\n",
    "# Integer code to symbol\n",
    "itos=['','',' ']\n",
    "for i in lines:\n",
    "    itos=itos+[i]\n",
    "# Symbol to integer code\n",
    "stoi=dict()\n",
    "stoi['STOP']=0\n",
    "stoi['START']=1\n",
    "for i in range(2,len(itos)):\n",
    "    stoi[itos[i]]=i"
   ]
  },
  {
   "cell_type": "code",
   "execution_count": 7,
   "id": "friendly-natural",
   "metadata": {},
   "outputs": [
    {
     "data": {
      "text/plain": [
       "10658"
      ]
     },
     "execution_count": 7,
     "metadata": {},
     "output_type": "execute_result"
    }
   ],
   "source": [
    "# Total number of sentences\n",
    "len(text)"
   ]
  },
  {
   "cell_type": "code",
   "execution_count": 8,
   "id": "following-export",
   "metadata": {},
   "outputs": [
    {
     "data": {
      "text/plain": [
       "76"
      ]
     },
     "execution_count": 8,
     "metadata": {},
     "output_type": "execute_result"
    }
   ],
   "source": [
    "# Longest sentence - plus start/stop\n",
    "max(len(i) for i in text)+2"
   ]
  },
  {
   "cell_type": "code",
   "execution_count": 9,
   "id": "stock-senior",
   "metadata": {},
   "outputs": [
    {
     "data": {
      "text/plain": [
       "71"
      ]
     },
     "execution_count": 9,
     "metadata": {},
     "output_type": "execute_result"
    }
   ],
   "source": [
    "# Number of tokens (each will be one-hot encoded)\n",
    "len(itos)"
   ]
  },
  {
   "cell_type": "code",
   "execution_count": 10,
   "id": "cutting-standing",
   "metadata": {},
   "outputs": [],
   "source": [
    "def encode_seq(x,mapping,min_length=0):\n",
    "    # String to one-hot\n",
    "    y=[mapping['START']]\n",
    "    for i in list(x):\n",
    "        y=y+[mapping[i]]\n",
    "    y=y+[mapping['STOP']]\n",
    "        # Stop-padding - handled elsewhere...\n",
    "    while len(y)<min_length:\n",
    "        y=y+[mapping['STOP']]\n",
    "    return keras.utils.to_categorical(y,len(mapping))\n",
    "\n",
    "def decode_seq(x,mapping):\n",
    "    # One-hot to string\n",
    "    y=[]\n",
    "    for i in x:\n",
    "        y=y+[mapping[np.argmax(i)]]\n",
    "    return ''.join(y)"
   ]
  },
  {
   "cell_type": "code",
   "execution_count": 11,
   "id": "fluid-chest",
   "metadata": {},
   "outputs": [
    {
     "data": {
      "text/plain": [
       "'It is a truth universally acknowledged, that a single man in possession'"
      ]
     },
     "execution_count": 11,
     "metadata": {},
     "output_type": "execute_result"
    }
   ],
   "source": [
    "# An encoding-decoding cycle on the first line...\n",
    "temp= encode_seq(text[0],stoi)\n",
    "temp = decode_seq(temp,itos)\n",
    "temp"
   ]
  },
  {
   "cell_type": "code",
   "execution_count": 12,
   "id": "recent-davis",
   "metadata": {},
   "outputs": [
    {
     "data": {
      "text/plain": [
       "'It is a truth universally acknowledged, that a single man in possession'"
      ]
     },
     "execution_count": 12,
     "metadata": {},
     "output_type": "execute_result"
    }
   ],
   "source": [
    "# What was the first line in its original form?\n",
    "text[0]"
   ]
  },
  {
   "cell_type": "code",
   "execution_count": 13,
   "id": "popular-sailing",
   "metadata": {},
   "outputs": [],
   "source": [
    "dataX=np.ones([len(text),max([len(i)for i in text])+2,len(itos)])*(1.0/len(itos))\n",
    "for i in range(len(text)):\n",
    "    temp=encode_seq(text[i],stoi)\n",
    "    dataX[i,0:len(temp),:]=temp\n",
    "# Not strictly necessary, but I was trying some alternative strategies\n",
    "# earlier and this is worth keeping around...\n",
    "# This will be the same as dataX using this implementation...\n",
    "dataY=np.ones([len(text),max([len(i)for i in text])+2,len(itos)])*(1.0/len(itos))\n",
    "for i in range(len(text)):\n",
    "    temp=encode_seq(text[i],stoi)\n",
    "    dataY[i,0:len(temp),:]=temp"
   ]
  },
  {
   "cell_type": "code",
   "execution_count": 14,
   "id": "invalid-sharing",
   "metadata": {},
   "outputs": [],
   "source": [
    "X=dataX[0:dataX.shape[0]-1,:,:]\n",
    "Y=dataY[1:dataY.shape[0],:,:]\n",
    "preY=Y[:,0:Y.shape[1]-1,:]\n",
    "postY=Y[:,1:Y.shape[1],:]"
   ]
  },
  {
   "cell_type": "code",
   "execution_count": 15,
   "id": "indian-thought",
   "metadata": {},
   "outputs": [
    {
     "name": "stdout",
     "output_type": "stream",
     "text": [
      "(50, 76, 71)\n",
      "(50, 76, 71)\n",
      "(50, 75, 71)\n",
      "(50, 75, 71)\n"
     ]
    }
   ],
   "source": [
    "nlines=50\n",
    "X=X[0:nlines,:,:]\n",
    "Y=Y[0:nlines,:,:]\n",
    "preY=preY[0:nlines,:,:]\n",
    "postY=postY[0:nlines,:,:]\n",
    "print(X.shape)\n",
    "print(Y.shape)\n",
    "print(preY.shape)\n",
    "print(postY.shape)"
   ]
  },
  {
   "cell_type": "code",
   "execution_count": 16,
   "id": "hungarian-vanilla",
   "metadata": {},
   "outputs": [
    {
     "name": "stdout",
     "output_type": "stream",
     "text": [
      "Model: \"model\"\n",
      "__________________________________________________________________________________________________\n",
      "Layer (type)                    Output Shape         Param #     Connected to                     \n",
      "==================================================================================================\n",
      "input_1 (InputLayer)            [(None, None, 71)]   0                                            \n",
      "__________________________________________________________________________________________________\n",
      "input_2 (InputLayer)            [(None, None, 71)]   0                                            \n",
      "__________________________________________________________________________________________________\n",
      "lstm (LSTM)                     [(None, 500), (None, 1144000     input_1[0][0]                    \n",
      "__________________________________________________________________________________________________\n",
      "lstm_1 (LSTM)                   [(None, None, 500),  1144000     input_2[0][0]                    \n",
      "                                                                 lstm[0][1]                       \n",
      "                                                                 lstm[0][2]                       \n",
      "__________________________________________________________________________________________________\n",
      "dense (Dense)                   (None, None, 71)     35571       lstm_1[0][0]                     \n",
      "==================================================================================================\n",
      "Total params: 2,323,571\n",
      "Trainable params: 2,323,571\n",
      "Non-trainable params: 0\n",
      "__________________________________________________________________________________________________\n"
     ]
    }
   ],
   "source": [
    "# Size of the gestalt, context representations...\n",
    "hidden_size=500\n",
    "## Encoder Construction\n",
    "# Make the layers\n",
    "encoder_input=keras.layers.Input(shape=(None,X.shape[2]))\n",
    "encoder_hidden=keras.layers.LSTM(hidden_size,return_state=True)\n",
    "# Tie the hidden layer to the input layer (passed in) \n",
    "encoder_output,enc_state_h,enc_state_c=encoder_hidden(encoder_input)\n",
    "# We discard `encoder_outputs` and only keep the states.\n",
    "encoder_states=[enc_state_h,enc_state_c]\n",
    "## Decoder Construction\n",
    "# Set up the decoder, using `encoder_states` as initial state.\n",
    "decoder_input=keras.layers.Input(shape=(None,preY.shape[2]))\n",
    "decoder_hidden=keras.layers.LSTM(hidden_size,\n",
    "                                 return_sequences=True,\n",
    "                                 return_state=True)\n",
    "# Connect hidden to input (also reads from the encoder...)\n",
    "decoder_hidden_output,decoder_state_h,decoder_state_c=decoder_hidden(\n",
    "    decoder_input,initial_state=encoder_states)\n",
    "decoder_dense=keras.layers.Dense(postY.shape[2],activation='softmax')\n",
    "# Connect output to hidden\n",
    "decoder_output=decoder_dense(decoder_hidden_output)\n",
    "# Our functional API model now has -two- input layers:\n",
    "# 1. Reads from X\n",
    "# 2. Reads from preY\n",
    "# and has a -single- output layer...\n",
    "# 1. Targets are postY\n",
    "model=keras.Model([encoder_input,decoder_input],decoder_output)\n",
    "# Compile it...\n",
    "model.compile(loss=keras.losses.CategoricalCrossentropy(),\n",
    "              optimizer=keras.optimizers.Adam(),\n",
    "              metrics=[keras.metrics.CategoricalAccuracy()])\n",
    "model.summary()"
   ]
  },
  {
   "cell_type": "code",
   "execution_count": 17,
   "id": "buried-cabinet",
   "metadata": {},
   "outputs": [
    {
     "name": "stdout",
     "output_type": "stream",
     "text": [
      "2/2 [==============================] - 4s 634ms/step - loss: 1.1428 - categorical_accuracy: 0.7443\n",
      "Accuracy: 74.42666888237 %\n"
     ]
    }
   ],
   "source": [
    "batch_size = nlines\n",
    "epochs = 1000\n",
    "history = model.fit([X,preY], postY,\n",
    "                   batch_size = batch_size,\n",
    "                   epochs=epochs,\n",
    "                   verbose=0)\n",
    "print('Accuracy:',model.evaluate([X,preY],postY)[1]*100.0,'%')\n"
   ]
  },
  {
   "cell_type": "code",
   "execution_count": 18,
   "id": "embedded-showcase",
   "metadata": {},
   "outputs": [
    {
     "data": {
      "image/png": "[encoded data removed]",
      "text/plain": [
       "<Figure size 432x288 with 2 Axes>"
      ]
     },
     "metadata": {
      "needs_background": "light"
     },
     "output_type": "display_data"
    }
   ],
   "source": [
    "plt.figure(1)\n",
    "#summarize history for accuracy\n",
    "plt.subplot(211)\n",
    "plt.plot(history.history['categorical_accuracy'])\n",
    "plt.title('model accuracy')\n",
    "plt.ylabel('accuracy')\n",
    "plt.xlabel('epoch')\n",
    "#summarize history for loss\n",
    "plt.subplot(212)\n",
    "plt.plot(history.history['loss'])\n",
    "plt.title('model loss')\n",
    "plt.ylabel('loss')\n",
    "plt.xlabel('epoch')\n",
    "plt.tight_layout()\n",
    "plt.show()"
   ]
  },
  {
   "cell_type": "code",
   "execution_count": 19,
   "id": "surface-adrian",
   "metadata": {},
   "outputs": [],
   "source": [
    "# Part 1 - make the encoder\n",
    "# Make just a model out of the encoder\n",
    "# input = encoder_input (Input layer)\n",
    "# output = encoder_states (enc Hidden layer * 2)\n",
    "encoder_model=keras.Model(encoder_input,encoder_states)\n",
    "# Part 2 - make the decoder\n",
    "# Make just a model out of the decoder\n",
    "# input = encoder_states (enc Hidden layer * 2)\n",
    "# output = decoder_output\n",
    "decoder_state_input_h=keras.layers.Input(shape=(hidden_size,))\n",
    "decoder_state_input_c=keras.layers.Input(shape=(hidden_size,))\n",
    "# Connect hidden to input(s)\n",
    "decoder_states_input=[decoder_state_input_h,decoder_state_input_c]\n",
    "decoder_hidden_output,decoder_state_h,decoder_state_c=decoder_hidden(\n",
    "    decoder_input,initial_state=decoder_states_input)\n",
    "decoder_states=[decoder_state_h,decoder_state_c]\n",
    "# Connect output to hidden(s)\n",
    "decoder_output=decoder_dense(decoder_hidden_output)\n",
    "decoder_model=keras.Model(\n",
    "    [decoder_input]+decoder_states_input,\n",
    "    [decoder_output]+decoder_states)"
   ]
  },
  {
   "cell_type": "code",
   "execution_count": 20,
   "id": "fixed-glucose",
   "metadata": {},
   "outputs": [
    {
     "data": {
      "text/plain": [
       "array([[[0., 1., 0., 0., 0., 0., 0., 0., 0., 0., 0., 0., 0., 0., 0., 0.,\n",
       "         0., 0., 0., 0., 0., 0., 0., 0., 0., 0., 0., 0., 0., 0., 0., 0.,\n",
       "         0., 0., 0., 0., 0., 0., 0., 0., 0., 0., 0., 0., 0., 0., 0., 0.,\n",
       "         0., 0., 0., 0., 0., 0., 0., 0., 0., 0., 0., 0., 0., 0., 0., 0.,\n",
       "         0., 0., 0., 0., 0., 0., 0.]]], dtype=float32)"
      ]
     },
     "execution_count": 20,
     "metadata": {},
     "output_type": "execute_result"
    }
   ],
   "source": [
    "# Get the gestalt context for the input sequence(s)\n",
    "i=0\n",
    "context=encoder_model.predict(X[i:i+1,:,:])\n",
    "token=encode_seq('',stoi)[0].reshape(1,1,len(stoi))\n",
    "token"
   ]
  },
  {
   "cell_type": "code",
   "execution_count": 21,
   "id": "empty-cause",
   "metadata": {},
   "outputs": [
    {
     "name": "stdout",
     "output_type": "stream",
     "text": [
      "Input: It is a truth universally acknowledged, that a single man in possession\n",
      "Output: of a good fortune, must be in want of a wife.\n"
     ]
    }
   ],
   "source": [
    "# What should we see?\n",
    "print('Input:',text[i])\n",
    "print('Output:',text[i+1])"
   ]
  },
  {
   "cell_type": "code",
   "execution_count": 22,
   "id": "black-reporter",
   "metadata": {},
   "outputs": [
    {
     "data": {
      "text/plain": [
       "'of a good fortune, must be in want of a wife.'"
      ]
     },
     "execution_count": 22,
     "metadata": {},
     "output_type": "execute_result"
    }
   ],
   "source": [
    "# Complete max cycles with the decoder\n",
    "result=np.zeros([1,postY.shape[1],postY.shape[2]])\n",
    "for x in range(postY.shape[1]):\n",
    "    out,h,c=decoder_model.predict([token]+context)\n",
    "    token=np.round(out)\n",
    "    context=[h,c]\n",
    "    result[:,x,:]=token\n",
    "decode_seq(result[0,:,:],itos)"
   ]
  },
  {
   "cell_type": "code",
   "execution_count": 23,
   "id": "instructional-redhead",
   "metadata": {},
   "outputs": [
    {
     "name": "stdout",
     "output_type": "stream",
     "text": [
      "Txt: of a good fortune, must be in want of a wife.\n",
      "Net: of a good fortune, must be in want of a wife.\n",
      "Txt: However little known the feelings or views of such a man may be on his\n",
      "Net: \"y tar Mr. Bennet,\" said his lady to him one day, \"have you heard that\n",
      "Txt: first entering a neighbourhood, this truth is so well fixed in the minds\n",
      "Net:  sternenda hesur in ali be rour oos h pady a ha\n",
      "Txt: of the surrounding families, that he is considered the rightful property\n",
      "Net: o oe on our tour fou thi daaty to kne of ch is inllat he  in e\n",
      "Txt: of some one or other of their daughters.\n",
      "Net: o on o o on o if i land Iatawe he sre oo  autat.ind \n",
      "Txt: \"My dear Mr. Bennet,\" said his lady to him one day, \"have you heard that\n",
      "Net: \"y tar Mr. Bennet,\" said his lady to him one day, \"have you heard that\n",
      "Txt: Netherfield Park is let at last?\"\n",
      "Net: o an the oenith ie land an wae  ofe sar  eelber, orisne h\n",
      "Txt: Mr. Bennet replied that he had not.\n",
      "Net: \" er oned anti e that fo thin wore   he hat inett\n",
      "Txt: \"But it is,\" returned she; \"for Mrs. Long has just been here, and she\n",
      "Net: \"y der ired nseeya haad Mr. Mirgl mmed bey of teeno\n",
      "Txt: told me all about it.\"\n",
      "Net: o o e oo the ft  ie hand tatt e er ay tu oo ay yourad o\n",
      "Txt: Mr. Bennet made no answer.\n",
      "Net: \"My dear, you flatter me. I certainly _have_ had my share of beauty, but\n",
      "Txt: \"Do you not want to know who has taken it?\" cried his wife impatiently.\n",
      "Net: \" is Mre net, m see no fving ofe.i\n",
      "Txt: \"_You_ want to tell me, and I have no objection to hearing it.\"\n",
      "Net:  ontrnened hbeyh  sate in ifered thes for  o avyttate\n",
      "Txt: This was invitation enough.\n",
      "Net:  tesi  ueidther sirenglt klis or shcof   a ant b tr\n",
      "Txt: \"Why, my dear, you must know, Mrs. Long says that Netherfield is taken\n",
      "Net: \" is Mrreunent senee o as to miikeindour hous ro hevin  ma tin\n",
      "Txt: by a young man of large fortune from the north of England; that he came\n",
      "Net: o o  on oretone no he iil sae dat hersisng t of r pliset thar\n",
      "Txt: down on Monday in a chaise and four to see the place, and was so much\n",
      "Net:  ther oue tobbeof or sear, m sinde  ow mmenin of i o! \n",
      "Txt: delighted with it, that he agreed with Mr. Morris immediately; that he\n",
      "Net:  stern I ea hobe orfoeatt me msindo hor whin  au t anto\n",
      "Txt: is to take possession before Michaelmas, and some of his servants are to\n",
      "Net: o an o caou.\"\n",
      "Txt: be in the house by the end of next week.\"\n",
      "Net: o o  o the Si  i arelad that  ocredad  y uat in sou.\n",
      "Txt: \"What is his name?\"\n",
      "Net: \" er oned anti i hat a ha ingof\n",
      "Txt: \"Bingley.\"\n",
      "Net: \" is ore that e  heterde  hsering of rorhebuus  is ttmm\n",
      "Txt: \"Is he married or single?\"\n",
      "Net: \"Is he married or single?\"\n",
      "Txt: \"Oh! Single, my dear, to be sure! A single man of large fortune; four or\n",
      "Net: \"y ie ove ot ne  we o has to ingifrur hin wifelippliteethit\n",
      "Txt: five thousand a year. What a fine thing for our girls!\"\n",
      "Net:  ethin I ae iobbetho, has arthinf on is wive ai istt\n",
      "Txt: \"How so? How can it affect them?\"\n",
      "Net: \" th ire dig ins thefot t es rruth on of he ifndyur he  ouhar\n",
      "Txt: \"My dear Mr. Bennet,\" replied his wife, \"how can you be so tiresome! You\n",
      "Net: \"My dear Mr. Bennet,\" replied his wife, \"how can you be so tiresome! You\n",
      "Txt: must know that I am thinking of his marrying one of them.\"\n",
      "Net:  ther Ieed ohbbe for sean ho Mron  yom maa sist mise\n",
      "Txt: \"Is that his design in settling here?\"\n",
      "Net: \"Is that his design in settling here?\"\n",
      "Txt: \"Design! Nonsense, how can you talk so! But it is very likely that he\n",
      "Net: \"y err oed that isl thead fo in fer cuch an ma wle  o in if\n",
      "Txt: _may_ fall in love with one of them, and therefore you must visit him as\n",
      "Net:  on one or oer of thiis daughters.\n",
      "Txt: soon as he comes.\"\n",
      "Net: soon as he comes.\"\n",
      "Txt: \"I see no occasion for that. You and the girls may go, or you may send\n",
      "Net: \"I see no occasion for that. You and the girls may go, or you may send\n",
      "Txt: them by themselves, which perhaps will be still better, for as you are\n",
      "Net: o an o cao.\"\n",
      "Txt: as handsome as any of them, Mr. Bingley may like you the best of the\n",
      "Net: o an  comes.\"\n",
      "Txt: party.\"\n",
      "Net:  nterne enabhbushord ttrmus  s of to  ig d\n",
      "Txt: \"My dear, you flatter me. I certainly _have_ had my share of beauty, but\n",
      "Net: \"My dear, you flatter me. I certainly _have_ had my share of beauty, but\n",
      "Txt: I do not pretend to be anything extraordinary now. When a woman has five\n",
      "Net:  oone ou hter o  fit ired athe Mro sr ict intt\n",
      "Txt: grown-up daughters, she ought to give over thinking of her own beauty.\"\n",
      "Net:  ter ou tetike of his aarthik.i\n",
      "Txt: \"In such cases, a woman has not often much beauty to think of.\"\n",
      "Net: \"In such cases, a woman has not often much beauty to think of.\"\n",
      "Txt: \"But, my dear, you must indeed go and see Mr. Bingley when he comes into\n",
      "Net: \"But, my dear, you must indeed go and see Mr. Bingley when he comes into\n",
      "Txt: the neighbourhood.\"\n",
      "Net: o oe on our tour fou iis at tak no an is re l maythan of \n",
      "Txt: \"It is more than I engage for, I assure you.\"\n",
      "Net: \"I he marreed or ssingle?\"\n",
      "Txt: \"But consider your daughters. Only think what an establishment it would\n",
      "Net: \"y t ar Mr. Benne,\" ald he  las tobe of ire bbat, or ou hor ad\n",
      "Txt: be for one of them. Sir William and Lady Lucas are determined to\n",
      "Net: o oe no o to f ot iis aud tatt kec  is tary it at p\n",
      "Txt: go, merely on that account, for in general, you know, they visit no\n",
      "Net: o o  o  on ten in herind a the .iist  or he gat. fou tor tori\n",
      "Txt: newcomers. Indeed you must go, for it will be impossible for _us_ to\n",
      "Net:  ontrn ene hbeay fo te t iiglid der i ou sou toate\n",
      "Txt: visit him if you do not.\"\n",
      "Net:  o no or on o ha sounaad hat a  oe ad the  h helayo o ther\n",
      "Txt: \"You are over-scrupulous, surely. I dare say Mr. Bingley will be very\n",
      "Net: \" ye mar eenllo on wh. and as r caken wow le sive ithe\n",
      "Txt: glad to see you; and I will send a few lines by you to assure him of my\n",
      "Net: glad to see you; and I will send a few lines by you to assure him of my\n"
     ]
    }
   ],
   "source": [
    "# Iterate - teacher forcing through each line\n",
    "for i in range(0,nlines):\n",
    "    # Get the gestalt context for the input sequence(s)\n",
    "    context=encoder_model.predict(X[i:i+1,:,:])\n",
    "    # Prep a starting token...\n",
    "    token=encode_seq('',stoi)[0].reshape(1,1,len(stoi))\n",
    "    result=np.zeros([1,postY.shape[1],postY.shape[2]])\n",
    "    for x in range(postY.shape[1]):\n",
    "        out,h,c=decoder_model.predict([token]+context)\n",
    "        token=np.round(out)\n",
    "        context=[h,c]\n",
    "        result[:,x,:]=token\n",
    "    print('Txt:',text[i+1])\n",
    "    print('Net:',decode_seq(result[0,:,:],itos))"
   ]
  },
  {
   "cell_type": "code",
   "execution_count": 24,
   "id": "thermal-experience",
   "metadata": {},
   "outputs": [
    {
     "name": "stdout",
     "output_type": "stream",
     "text": [
      "Txt: of a good fortune, must be in want of a wife.\n",
      "Net: of a good fortune, must be in want of a wife.\n",
      "Txt: However little known the feelings or views of such a man may be on his\n",
      "Net: \" tha his deainn be theind oh ta  outh ored ther ih ha au y aten\n",
      "Txt: first entering a neighbourhood, this truth is so well fixed in the minds\n",
      "Net: o o on oo hat in  fome in wat ae oe\n",
      "Txt: of the surrounding families, that he is considered the rightful property\n",
      "Net: \" tha his asin othei ouset ing foreig hin wfre piesthe\n",
      "Txt: of some one or other of their daughters.\n",
      "Net:  son one or oone fo e ary, I a se.\"\n",
      "Txt: \"My dear Mr. Bennet,\" said his lady to him one day, \"have you heard that\n",
      "Net: \" th ire doug insely, nnsesrry ou esson fomenii o uo\n",
      "Txt: Netherfield Park is let at last?\"\n",
      "Net:  o no or on i am an at ae int of an on beayuo to ayyurh\n",
      "Txt: Mr. Bennet replied that he had not.\n",
      "Net:  ther e tea bethfn semerill o  olibe tou  hes\n",
      "Txt: \"But it is,\" returned she; \"for Mrs. Long has just been here, and she\n",
      "Net:  oo  ou them. S Wilii mar dand Locsere themeri\n",
      "Txt: told me all about it.\"\n",
      "Net:  ontrne e abe buthi d ttan inbe you ho s srt in sore\n",
      "Txt: Mr. Bennet made no answer.\n",
      "Net:  oon ou hham. ShWWillia an ad Losurou t ie liran\n",
      "Txt: \"Do you not want to know who has taken it?\" cried his wife impatiently.\n",
      "Net: o a ho caton f thime dathat  oren\n",
      "Txt: \"_You_ want to tell me, and I have no objection to hearing it.\"\n",
      "Net: \" tha his mase, no theer.ond that muhhiss on wof ig e\"t\n",
      "Txt: This was invitation enough.\n",
      "Net:  no an to kon this eeatnt  \n",
      "Txt: \"Why, my dear, you must know, Mrs. Long says that Netherfield is taken\n",
      "Net: \" tha his dea, no  hetng  orettin e our  of lr teelids ththe\n",
      "Txt: by a young man of large fortune from the north of England; that he came\n",
      "Net: o o e oouthet o  firedig hass i one hh chacan in aveithith \n",
      "Txt: down on Monday in a chaise and four to see the place, and was so much\n",
      "Net:  terrou net bbeesini hat an ieboudo is rhing a yor\n",
      "Txt: delighted with it, that he agreed with Mr. Morris immediately; that he\n",
      "Net:  o one or ther. Sir William and Lady Lucas are determined to\n",
      "Txt: is to take possession before Michaelmas, and some of his servants are to\n",
      "Net:  oeo o hat ar  ti dou hers.\n",
      "Txt: be in the house by the end of next week.\"\n",
      "Net: \" tha his dea, no  hetng  orettin e ou  his r tedin ther i\n",
      "Txt: \"What is his name?\"\n",
      "Net: o o on oo hat in  fome in wa tas e o\n",
      "Txt: \"Bingley.\"\n",
      "Net: \" tha his mase, no theer.ond that mhikeso whl  hefing ttete o  ou\n",
      "Txt: \"Is he married or single?\"\n",
      "Net: o oe on ou ot  of thii dauthatd t  ten\n",
      "Txt: \"Oh! Single, my dear, to be sure! A single man of large fortune; four or\n",
      "Net: \" tha his mase nno heerond sstre i s sell gofer in whead or\n",
      "Txt: five thousand a year. What a fine thing for our girls!\"\n",
      "Net: o o one o the  of thir danghter\n",
      "Txt: \"How so? How can it affect them?\"\n",
      "Net: \" tha his dea, no  hetnng  aret.\"\n",
      "Txt: \"My dear Mr. Bennet,\" replied his wife, \"how can you be so tiresome! You\n",
      "Net: \"But consider your daughters. Only think what an establishment it would\n",
      "Txt: must know that I am thinking of his marrying one of them.\"\n",
      "Net:  then I ee obbethof fas tu geoo, o sire you ha so\n",
      "Txt: \"Is that his design in settling here?\"\n",
      "Net:  oo ou them h  ingland fo wie Mor a  mman an of o\n",
      "Txt: \"Design! Nonsense, how can you talk so! But it is very likely that he\n",
      "Net:  ther e dishbefor hsenat he ild  an  of besuro\n",
      "Txt: _may_ fall in love with one of them, and therefore you must visit him as\n",
      "Net:  o one or ther. Sir William and Lady Lucas are determined to\n",
      "Txt: soon as he comes.\"\n",
      "Net:  oeo o hat ar  ti dou hers.\n",
      "Txt: \"I see no occasion for that. You and the girls may go, or you may send\n",
      "Net: \" tha his dea, no  hetng  orettin e ou  his r tedin ther i\n",
      "Txt: them by themselves, which perhaps will be still better, for as you are\n",
      "Net: o o on oo hat in  fome in wa tas e o\n",
      "Txt: as handsome as any of them, Mr. Bingley may like you the best of the\n",
      "Net: \" tha his mase, no theer.ond that mhikeso whl  hefing ttete o  ou\n",
      "Txt: party.\"\n",
      "Net: o oe on ou ot  of thii dauthatd t  ten\n",
      "Txt: \"My dear, you flatter me. I certainly _have_ had my share of beauty, but\n",
      "Net: \" tha his mase nno heerond sstre i s sell gofer in whead or\n",
      "Txt: I do not pretend to be anything extraordinary now. When a woman has five\n",
      "Net: o o one o the  of thir danghter\n",
      "Txt: grown-up daughters, she ought to give over thinking of her own beauty.\"\n",
      "Net: \" tha his dea, no  hetnng  aret.\"\n",
      "Txt: \"In such cases, a woman has not often much beauty to think of.\"\n",
      "Net: \"But consider your daughters. Only think what an establishment it would\n",
      "Txt: \"But, my dear, you must indeed go and see Mr. Bingley when he comes into\n",
      "Net:  then I ee obbethof fas tu geoo, o sire you ha so\n",
      "Txt: the neighbourhood.\"\n",
      "Net:  oo ou them h  ingland fo wie Mor a  mman an of o\n",
      "Txt: \"It is more than I engage for, I assure you.\"\n",
      "Net:  ther e dishbefor hsenat he ild  an  of besuro\n",
      "Txt: \"But consider your daughters. Only think what an establishment it would\n",
      "Net:  o one or ther. Sir William and Lady Lucas are determined to\n",
      "Txt: be for one of them. Sir William and Lady Lucas are determined to\n",
      "Net:  oeo o hat ar  ti dou hers.\n",
      "Txt: go, merely on that account, for in general, you know, they visit no\n",
      "Net: \" tha his dea, no  hetng  orettin e ou  his r tedin ther i\n",
      "Txt: newcomers. Indeed you must go, for it will be impossible for _us_ to\n",
      "Net: o o on oo hat in  fome in wa tas e o\n",
      "Txt: visit him if you do not.\"\n",
      "Net: \" tha his mase, no theer.ond that mhikeso whl  hefing ttete o  ou\n",
      "Txt: \"You are over-scrupulous, surely. I dare say Mr. Bingley will be very\n",
      "Net: o oe on ou ot  of thii dauthatd t  ten\n",
      "Txt: glad to see you; and I will send a few lines by you to assure him of my\n",
      "Net: \" tha his mase nno heerond sstre i s sell gofer in whead or\n"
     ]
    }
   ],
   "source": [
    "#get the gestalt context for the input sequence(s)\n",
    "i = 0\n",
    "context=encoder_model.predict(X[i:i+1,:,:])\n",
    "for i in range(0,nlines):\n",
    "    token = encode_seq('',stoi)[0].reshape(1,1,len(stoi))\n",
    "    result = np.zeros([1,postY.shape[1],postY.shape[2]])\n",
    "    for x in range(postY.shape[1]):\n",
    "        out,h,c=decoder_model.predict([token]+context)\n",
    "        token=np.round(out)\n",
    "        context = [h,c]\n",
    "        result[:,x,:]= token\n",
    "    print('Txt:',text[i+1])\n",
    "    print('Net:',decode_seq(result[0,:,:],itos))\n",
    "    # CRUCIAL -> keep predicted result instead of teacher forcing!\n",
    "    context=encoder_model.predict(result)"
   ]
  },
  {
   "cell_type": "markdown",
   "id": "alert-handling",
   "metadata": {},
   "source": [
    "Problem 2"
   ]
  },
  {
   "cell_type": "code",
   "execution_count": 26,
   "id": "specialized-abortion",
   "metadata": {},
   "outputs": [
    {
     "data": {
      "text/plain": [
       "['It', 'is', 'a', 'truth', 'universally', 'acknowledged,', 'that', 'a']"
      ]
     },
     "execution_count": 26,
     "metadata": {},
     "output_type": "execute_result"
    }
   ],
   "source": [
    "# Preprocessing - grab word from the file simplying by using white space\n",
    "with open('PandP_Jane_Austen.txt','r',encoding='utf-8')as f:\n",
    "    lines=f.read().split()\n",
    "text=[]\n",
    "for i in range(len(lines)):\n",
    "    if lines[i] != '':\n",
    "        text=text+[lines[i]]\n",
    "min_length=max([len(i) for i in text])\n",
    "# Visual Confirmation that we have loaded the text in...\n",
    "text[0:8]"
   ]
  },
  {
   "cell_type": "code",
   "execution_count": 27,
   "id": "processed-allocation",
   "metadata": {},
   "outputs": [],
   "source": [
    "dataX=np.ones([len(text),max([len(i)for i in text])+2,len(itos)])*(1.0/len(itos))\n",
    "for i in range(len(text)):\n",
    "    temp=encode_seq(text[i],stoi)\n",
    "    dataX[i,0:len(temp),:]=temp\n",
    "# Not strictly necessary, but I was trying some alternative strategies\n",
    "# earlier and this is worth keeping around...\n",
    "# This will be the same as dataX using this implementation...\n",
    "dataY=np.ones([len(text),max([len(i)for i in text])+2,len(itos)])*(1.0/len(itos))\n",
    "for i in range(len(text)):\n",
    "    temp=encode_seq(text[i],stoi)\n",
    "    dataY[i,0:len(temp),:]=temp"
   ]
  },
  {
   "cell_type": "code",
   "execution_count": 28,
   "id": "concrete-prospect",
   "metadata": {},
   "outputs": [],
   "source": [
    "X=dataX[0:dataX.shape[0]-1,:,:]\n",
    "Y=dataY[1:dataY.shape[0],:,:]\n",
    "preY=Y[:,0:Y.shape[1]-1,:]\n",
    "postY=Y[:,1:Y.shape[1],:]"
   ]
  },
  {
   "cell_type": "code",
   "execution_count": 29,
   "id": "premium-church",
   "metadata": {},
   "outputs": [
    {
     "name": "stdout",
     "output_type": "stream",
     "text": [
      "(50, 30, 71)\n",
      "(50, 30, 71)\n",
      "(50, 29, 71)\n",
      "(50, 29, 71)\n"
     ]
    }
   ],
   "source": [
    "nlines=500\n",
    "X=X[0:nlines,:,:]\n",
    "Y=Y[0:nlines,:,:]\n",
    "preY=preY[0:nlines,:,:]\n",
    "postY=postY[0:nlines,:,:]\n",
    "print(X.shape)\n",
    "print(Y.shape)\n",
    "print(preY.shape)\n",
    "print(postY.shape)"
   ]
  },
  {
   "cell_type": "code",
   "execution_count": 30,
   "id": "finished-discharge",
   "metadata": {},
   "outputs": [
    {
     "name": "stdout",
     "output_type": "stream",
     "text": [
      "Model: \"model_3\"\n",
      "__________________________________________________________________________________________________\n",
      "Layer (type)                    Output Shape         Param #     Connected to                     \n",
      "==================================================================================================\n",
      "input_5 (InputLayer)            [(None, None, 71)]   0                                            \n",
      "__________________________________________________________________________________________________\n",
      "input_6 (InputLayer)            [(None, None, 71)]   0                                            \n",
      "__________________________________________________________________________________________________\n",
      "lstm_2 (LSTM)                   [(None, 500), (None, 1144000     input_5[0][0]                    \n",
      "__________________________________________________________________________________________________\n",
      "lstm_3 (LSTM)                   [(None, None, 500),  1144000     input_6[0][0]                    \n",
      "                                                                 lstm_2[0][1]                     \n",
      "                                                                 lstm_2[0][2]                     \n",
      "__________________________________________________________________________________________________\n",
      "dense_1 (Dense)                 (None, None, 71)     35571       lstm_3[0][0]                     \n",
      "==================================================================================================\n",
      "Total params: 2,323,571\n",
      "Trainable params: 2,323,571\n",
      "Non-trainable params: 0\n",
      "__________________________________________________________________________________________________\n"
     ]
    }
   ],
   "source": [
    "# Size of the gestalt, context representations...\n",
    "hidden_size=500\n",
    "## Encoder Construction\n",
    "# Make the layers\n",
    "encoder_input=keras.layers.Input(shape=(None,X.shape[2]))\n",
    "encoder_hidden=keras.layers.LSTM(hidden_size,return_state=True)\n",
    "# Tie the hidden layer to the input layer (passed in) \n",
    "encoder_output,enc_state_h,enc_state_c=encoder_hidden(encoder_input)\n",
    "# We discard `encoder_outputs` and only keep the states.\n",
    "encoder_states=[enc_state_h,enc_state_c]\n",
    "## Decoder Construction\n",
    "# Set up the decoder, using `encoder_states` as initial state.\n",
    "decoder_input=keras.layers.Input(shape=(None,preY.shape[2]))\n",
    "decoder_hidden=keras.layers.LSTM(hidden_size,\n",
    "                                 return_sequences=True,\n",
    "                                 return_state=True)\n",
    "# Connect hidden to input (also reads from the encoder...)\n",
    "decoder_hidden_output,decoder_state_h,decoder_state_c=decoder_hidden(\n",
    "    decoder_input,initial_state=encoder_states)\n",
    "decoder_dense=keras.layers.Dense(postY.shape[2],activation='softmax')\n",
    "# Connect output to hidden\n",
    "decoder_output=decoder_dense(decoder_hidden_output)\n",
    "# Our functional API model now has -two- input layers:\n",
    "# 1. Reads from X\n",
    "# 2. Reads from preY\n",
    "# and has a -single- output layer...\n",
    "# 1. Targets are postY\n",
    "model=keras.Model([encoder_input,decoder_input],decoder_output)\n",
    "# Compile it...\n",
    "model.compile(loss=keras.losses.CategoricalCrossentropy(),\n",
    "              optimizer=keras.optimizers.Adam(),\n",
    "              metrics=[keras.metrics.CategoricalAccuracy()])\n",
    "model.summary()"
   ]
  },
  {
   "cell_type": "code",
   "execution_count": 31,
   "id": "adjustable-performance",
   "metadata": {},
   "outputs": [
    {
     "name": "stdout",
     "output_type": "stream",
     "text": [
      "2/2 [==============================] - 3s 207ms/step - loss: 3.5192 - categorical_accuracy: 0.2028\n",
      "Accuracy: 20.275862514972687 %\n"
     ]
    }
   ],
   "source": [
    "batch_size = 10\n",
    "epochs = 1000\n",
    "history = model.fit([X,preY], postY,\n",
    "                   batch_size = batch_size,\n",
    "                   epochs=epochs,\n",
    "                   verbose=0)\n",
    "print('Accuracy:',model.evaluate([X,preY],postY)[1]*100.0,'%')\n"
   ]
  },
  {
   "cell_type": "code",
   "execution_count": 32,
   "id": "applicable-preliminary",
   "metadata": {},
   "outputs": [
    {
     "data": {
      "image/png": "[encoded data removed]",
      "text/plain": [
       "<Figure size 432x288 with 2 Axes>"
      ]
     },
     "metadata": {
      "needs_background": "light"
     },
     "output_type": "display_data"
    }
   ],
   "source": [
    "plt.figure(1)\n",
    "#summarize history for accuracy\n",
    "plt.subplot(211)\n",
    "plt.plot(history.history['categorical_accuracy'])\n",
    "plt.title('model accuracy')\n",
    "plt.ylabel('accuracy')\n",
    "plt.xlabel('epoch')\n",
    "#summarize history for loss\n",
    "plt.subplot(212)\n",
    "plt.plot(history.history['loss'])\n",
    "plt.title('model loss')\n",
    "plt.ylabel('loss')\n",
    "plt.xlabel('epoch')\n",
    "plt.tight_layout()\n",
    "plt.show()"
   ]
  },
  {
   "cell_type": "code",
   "execution_count": 33,
   "id": "resistant-trademark",
   "metadata": {},
   "outputs": [],
   "source": [
    "# Part 1 - make the encoder\n",
    "# Make just a model out of the encoder\n",
    "# input = encoder_input (Input layer)\n",
    "# output = encoder_states (enc Hidden layer * 2)\n",
    "encoder_model=keras.Model(encoder_input,encoder_states)\n",
    "# Part 2 - make the decoder\n",
    "# Make just a model out of the decoder\n",
    "# input = encoder_states (enc Hidden layer * 2)\n",
    "# output = decoder_output\n",
    "decoder_state_input_h=keras.layers.Input(shape=(hidden_size,))\n",
    "decoder_state_input_c=keras.layers.Input(shape=(hidden_size,))\n",
    "# Connect hidden to input(s)\n",
    "decoder_states_input=[decoder_state_input_h,decoder_state_input_c]\n",
    "decoder_hidden_output,decoder_state_h,decoder_state_c=decoder_hidden(\n",
    "    decoder_input,initial_state=decoder_states_input)\n",
    "decoder_states=[decoder_state_h,decoder_state_c]\n",
    "# Connect output to hidden(s)\n",
    "decoder_output=decoder_dense(decoder_hidden_output)\n",
    "decoder_model=keras.Model(\n",
    "    [decoder_input]+decoder_states_input,\n",
    "    [decoder_output]+decoder_states)"
   ]
  },
  {
   "cell_type": "code",
   "execution_count": 34,
   "id": "married-elimination",
   "metadata": {},
   "outputs": [
    {
     "data": {
      "text/plain": [
       "array([[[0., 1., 0., 0., 0., 0., 0., 0., 0., 0., 0., 0., 0., 0., 0., 0.,\n",
       "         0., 0., 0., 0., 0., 0., 0., 0., 0., 0., 0., 0., 0., 0., 0., 0.,\n",
       "         0., 0., 0., 0., 0., 0., 0., 0., 0., 0., 0., 0., 0., 0., 0., 0.,\n",
       "         0., 0., 0., 0., 0., 0., 0., 0., 0., 0., 0., 0., 0., 0., 0., 0.,\n",
       "         0., 0., 0., 0., 0., 0., 0.]]], dtype=float32)"
      ]
     },
     "execution_count": 34,
     "metadata": {},
     "output_type": "execute_result"
    }
   ],
   "source": [
    "# Get the gestalt context for the input sequence(s)\n",
    "i=0\n",
    "context=encoder_model.predict(X[i:i+1,:,:])\n",
    "token=encode_seq('',stoi)[0].reshape(1,1,len(stoi))\n",
    "token"
   ]
  },
  {
   "cell_type": "code",
   "execution_count": 35,
   "id": "amino-shopping",
   "metadata": {},
   "outputs": [
    {
     "name": "stdout",
     "output_type": "stream",
     "text": [
      "Input: It\n",
      "Output: is\n"
     ]
    }
   ],
   "source": [
    "# What should we see?\n",
    "print('Input:',text[i])\n",
    "print('Output:',text[i+1])"
   ]
  },
  {
   "cell_type": "code",
   "execution_count": 36,
   "id": "spare-forty",
   "metadata": {},
   "outputs": [
    {
     "data": {
      "text/plain": [
       "'is'"
      ]
     },
     "execution_count": 36,
     "metadata": {},
     "output_type": "execute_result"
    }
   ],
   "source": [
    "# Complete max cycles with the decoder\n",
    "result=np.zeros([1,postY.shape[1],postY.shape[2]])\n",
    "for x in range(postY.shape[1]):\n",
    "    out,h,c=decoder_model.predict([token]+context)\n",
    "    token=np.round(out)\n",
    "    context=[h,c]\n",
    "    result[:,x,:]=token\n",
    "decode_seq(result[0,:,:],itos)"
   ]
  },
  {
   "cell_type": "code",
   "execution_count": 37,
   "id": "sixth-deputy",
   "metadata": {},
   "outputs": [
    {
     "name": "stdout",
     "output_type": "stream",
     "text": [
      "Txt: is\n",
      "Net: is\n",
      "Txt: a\n",
      "Net: a\n",
      "Txt: truth\n",
      "Net: ingle\n",
      "Txt: universally\n",
      "Net: is\n",
      "Txt: acknowledged,\n",
      "Net: acknowledged,\n",
      "Txt: that\n",
      "Net: that\n",
      "Txt: a\n",
      "Net: a\n",
      "Txt: single\n",
      "Net: ingle\n",
      "Txt: man\n",
      "Net: man\n",
      "Txt: in\n",
      "Net: in\n",
      "Txt: possession\n",
      "Net: ot\n",
      "Txt: of\n",
      "Net: of\n",
      "Txt: a\n",
      "Net: a\n",
      "Txt: good\n",
      "Net: ingle\n",
      "Txt: fortune,\n",
      "Net: fortune,\n",
      "Txt: must\n",
      "Net: must\n",
      "Txt: be\n",
      "Net: be\n",
      "Txt: in\n",
      "Net: in\n",
      "Txt: want\n",
      "Net: ot\n",
      "Txt: of\n",
      "Net: of\n",
      "Txt: a\n",
      "Net: a\n",
      "Txt: wife.\n",
      "Net: ingle\n",
      "Txt: However\n",
      "Net: However\n",
      "Txt: little\n",
      "Net: little\n",
      "Txt: known\n",
      "Net: known\n",
      "Txt: the\n",
      "Net: the\n",
      "Txt: feelings\n",
      "Net: eelings\n",
      "Txt: or\n",
      "Net: or\n",
      "Txt: views\n",
      "Net: views\n",
      "Txt: of\n",
      "Net: of\n",
      "Txt: such\n",
      "Net: a\n",
      "Txt: a\n",
      "Net: a\n",
      "Txt: man\n",
      "Net: ingle\n",
      "Txt: may\n",
      "Net: in\n",
      "Txt: be\n",
      "Net: be\n",
      "Txt: on\n",
      "Net: in\n",
      "Txt: his\n",
      "Net: his\n",
      "Txt: first\n",
      "Net: first\n",
      "Txt: entering\n",
      "Net: entering\n",
      "Txt: a\n",
      "Net: a\n",
      "Txt: neighbourhood,\n",
      "Net: ingle\n",
      "Txt: this\n",
      "Net: this\n",
      "Txt: truth\n",
      "Net: truth\n",
      "Txt: is\n",
      "Net: is\n",
      "Txt: so\n",
      "Net: a\n",
      "Txt: well\n",
      "Net: well\n",
      "Txt: fixed\n",
      "Net: fixed\n",
      "Txt: in\n",
      "Net: in\n",
      "Txt: the\n",
      "Net: ot\n",
      "Txt: minds\n",
      "Net: eelings\n"
     ]
    }
   ],
   "source": [
    "# Iterate - teacher forcing through each line\n",
    "for i in range(0,nlines):\n",
    "    # Get the gestalt context for the input sequence(s)\n",
    "    context=encoder_model.predict(X[i:i+1,:,:])\n",
    "    # Prep a starting token...\n",
    "    token=encode_seq('',stoi)[0].reshape(1,1,len(stoi))\n",
    "    result=np.zeros([1,postY.shape[1],postY.shape[2]])\n",
    "    for x in range(postY.shape[1]):\n",
    "        out,h,c=decoder_model.predict([token]+context)\n",
    "        token=np.round(out)\n",
    "        context=[h,c]\n",
    "        result[:,x,:]=token\n",
    "    print('Txt:',text[i+1])\n",
    "    print('Net:',decode_seq(result[0,:,:],itos))"
   ]
  },
  {
   "cell_type": "code",
   "execution_count": 38,
   "id": "hawaiian-cooler",
   "metadata": {},
   "outputs": [
    {
     "name": "stdout",
     "output_type": "stream",
     "text": [
      "Txt: is\n",
      "Net: is\n",
      "Txt: a\n",
      "Net: a\n",
      "Txt: truth\n",
      "Net: th\n",
      "Txt: universally\n",
      "Net: a\n",
      "Txt: acknowledged,\n",
      "Net: th\n",
      "Txt: that\n",
      "Net: a\n",
      "Txt: a\n",
      "Net: th\n",
      "Txt: single\n",
      "Net: a\n",
      "Txt: man\n",
      "Net: th\n",
      "Txt: in\n",
      "Net: a\n",
      "Txt: possession\n",
      "Net: th\n",
      "Txt: of\n",
      "Net: a\n",
      "Txt: a\n",
      "Net: th\n",
      "Txt: good\n",
      "Net: a\n",
      "Txt: fortune,\n",
      "Net: th\n",
      "Txt: must\n",
      "Net: a\n",
      "Txt: be\n",
      "Net: th\n",
      "Txt: in\n",
      "Net: a\n",
      "Txt: want\n",
      "Net: th\n",
      "Txt: of\n",
      "Net: a\n",
      "Txt: a\n",
      "Net: th\n",
      "Txt: wife.\n",
      "Net: a\n",
      "Txt: However\n",
      "Net: th\n",
      "Txt: little\n",
      "Net: a\n",
      "Txt: known\n",
      "Net: th\n",
      "Txt: the\n",
      "Net: a\n",
      "Txt: feelings\n",
      "Net: th\n",
      "Txt: or\n",
      "Net: a\n",
      "Txt: views\n",
      "Net: th\n",
      "Txt: of\n",
      "Net: a\n",
      "Txt: such\n",
      "Net: th\n",
      "Txt: a\n",
      "Net: a\n",
      "Txt: man\n",
      "Net: th\n",
      "Txt: may\n",
      "Net: a\n",
      "Txt: be\n",
      "Net: th\n",
      "Txt: on\n",
      "Net: a\n",
      "Txt: his\n",
      "Net: th\n",
      "Txt: first\n",
      "Net: a\n",
      "Txt: entering\n",
      "Net: th\n",
      "Txt: a\n",
      "Net: a\n",
      "Txt: neighbourhood,\n",
      "Net: th\n",
      "Txt: this\n",
      "Net: a\n",
      "Txt: truth\n",
      "Net: th\n",
      "Txt: is\n",
      "Net: a\n",
      "Txt: so\n",
      "Net: th\n",
      "Txt: well\n",
      "Net: a\n",
      "Txt: fixed\n",
      "Net: th\n",
      "Txt: in\n",
      "Net: a\n",
      "Txt: the\n",
      "Net: th\n",
      "Txt: minds\n",
      "Net: a\n"
     ]
    }
   ],
   "source": [
    "#get the gestalt context for the input sequence(s)\n",
    "i = 0\n",
    "context=encoder_model.predict(X[i:i+1,:,:])\n",
    "for i in range(0,nlines):\n",
    "    token = encode_seq('',stoi)[0].reshape(1,1,len(stoi))\n",
    "    result = np.zeros([1,postY.shape[1],postY.shape[2]])\n",
    "    for x in range(postY.shape[1]):\n",
    "        out,h,c=decoder_model.predict([token]+context)\n",
    "        token=np.round(out)\n",
    "        context = [h,c]\n",
    "        result[:,x,:]= token\n",
    "    print('Txt:',text[i+1])\n",
    "    print('Net:',decode_seq(result[0,:,:],itos))\n",
    "    # CRUCIAL -> keep predicted result instead of teacher forcing!\n",
    "    context=encoder_model.predict(result)"
   ]
  },
  {
   "cell_type": "code",
   "execution_count": null,
   "id": "celtic-plasma",
   "metadata": {},
   "outputs": [],
   "source": []
  }
 ],
 "metadata": {
  "kernelspec": {
   "display_name": "Python 3",
   "language": "python",
   "name": "python3"
  },
  "language_info": {
   "codemirror_mode": {
    "name": "ipython",
    "version": 3
   },
   "file_extension": ".py",
   "mimetype": "text/x-python",
   "name": "python",
   "nbconvert_exporter": "python",
   "pygments_lexer": "ipython3",
   "version": "3.8.6"
  }
 },
 "nbformat": 4,
 "nbformat_minor": 5
}
